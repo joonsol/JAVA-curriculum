{
  "nbformat": 4,
  "nbformat_minor": 0,
  "metadata": {
    "colab": {
      "provenance": [],
      "toc_visible": true,
      "authorship_tag": "ABX9TyMQ5kcNzfEtoLQ3KA8E5w/1",
      "include_colab_link": true
    },
    "kernelspec": {
      "name": "python3",
      "display_name": "Python 3"
    },
    "language_info": {
      "name": "python"
    }
  },
  "cells": [
    {
      "cell_type": "markdown",
      "metadata": {
        "id": "view-in-github",
        "colab_type": "text"
      },
      "source": [
        "<a href=\"https://colab.research.google.com/github/joonsol/JAVA-curriculum/blob/main/Python_Curriculum.ipynb\" target=\"_parent\"><img src=\"https://colab.research.google.com/assets/colab-badge.svg\" alt=\"Open In Colab\"/></a>"
      ]
    },
    {
      "cell_type": "code",
      "execution_count": null,
      "metadata": {
        "colab": {
          "base_uri": "https://localhost:8080/"
        },
        "id": "XFWetzeAhUuo",
        "outputId": "5e031834-8788-44a1-bf50-2b008136c928"
      },
      "outputs": [
        {
          "output_type": "stream",
          "name": "stdout",
          "text": [
            "hello python!\n"
          ]
        }
      ],
      "source": [
        "print('hello python!')"
      ]
    },
    {
      "cell_type": "code",
      "source": [],
      "metadata": {
        "id": "9Nlboi2goC1B"
      },
      "execution_count": null,
      "outputs": []
    },
    {
      "cell_type": "markdown",
      "source": [
        "# 1.자료형 실습문제\n"
      ],
      "metadata": {
        "id": "X4hFpAj_iIq-"
      }
    },
    {
      "cell_type": "markdown",
      "source": [
        "first_name = \"Jane\", last_name = \"Doe\" 라는 두 문자열이 주어졌습니다.\n",
        "이를 리스트로 만든 후, 공백(\" \")을 기준으로 다시 전체 이름을 결합하여 출력하세요."
      ],
      "metadata": {
        "id": "Sdkw1j74pzpk"
      }
    },
    {
      "cell_type": "code",
      "source": [
        "first_name=\"Jane\"\n",
        "last_name=\"Due\"\n",
        "name_list= [first_name,last_name]\n",
        "full_name=\" \".join(name_list)\n",
        "print(full_name)"
      ],
      "metadata": {
        "colab": {
          "base_uri": "https://localhost:8080/"
        },
        "id": "0oQ0sLKwoISN",
        "outputId": "568e5d16-9bd9-4ac6-9397-3097a9daedc0"
      },
      "execution_count": null,
      "outputs": [
        {
          "output_type": "stream",
          "name": "stdout",
          "text": [
            "Jane Due\n"
          ]
        }
      ]
    },
    {
      "cell_type": "markdown",
      "source": [
        "person이라는 딕셔너리가 주어집니다.\n",
        "1. \"age\"를 31로 수정하고\n",
        "2. \"job\"이라는 키에 \"Designer\"라는 값을 추가한 후\n",
        "3. 전체 딕셔너리를 출력하세요."
      ],
      "metadata": {
        "id": "H2jGkgH4qPSc"
      }
    },
    {
      "cell_type": "code",
      "source": [
        "person={\n",
        "    \"age\":31,\n",
        "    \"job\":\"Designer\"\n",
        "}\n",
        "print(person)"
      ],
      "metadata": {
        "colab": {
          "base_uri": "https://localhost:8080/"
        },
        "id": "aanybctxqT4M",
        "outputId": "407670f3-1f2e-417b-b512-6b5c3f83ff1a"
      },
      "execution_count": null,
      "outputs": [
        {
          "output_type": "stream",
          "name": "stdout",
          "text": [
            "{'age': 31, 'job': 'Designer'}\n"
          ]
        }
      ]
    },
    {
      "cell_type": "markdown",
      "source": [
        "# 2.자료형 출력하기"
      ],
      "metadata": {
        "id": "2SvHJml_nY2g"
      }
    },
    {
      "cell_type": "code",
      "source": [
        "x=10\n",
        "y=-5\n",
        "z=x+y\n",
        "print(f\"x:{x} ,y:{y},z:{z}\")"
      ],
      "metadata": {
        "colab": {
          "base_uri": "https://localhost:8080/"
        },
        "id": "Ct2bnmQ5iUZt",
        "outputId": "e0e66d27-8c18-40e6-fa5f-37f2e87e1b75"
      },
      "execution_count": null,
      "outputs": [
        {
          "output_type": "stream",
          "name": "stdout",
          "text": [
            "x:10 ,y:-5,z:5\n"
          ]
        }
      ]
    },
    {
      "cell_type": "code",
      "source": [
        "pi=3.14159\n",
        "redius=5\n",
        "area = pi*redius**2\n",
        "print(f\"원의 면적 :{area}\")"
      ],
      "metadata": {
        "colab": {
          "base_uri": "https://localhost:8080/"
        },
        "id": "sxhs9UgPiwQm",
        "outputId": "e90b93ac-7b19-4835-9995-a94639547f94"
      },
      "execution_count": null,
      "outputs": [
        {
          "output_type": "stream",
          "name": "stdout",
          "text": [
            "원의 면적 :78.53975\n"
          ]
        }
      ]
    },
    {
      "cell_type": "code",
      "source": [
        "name =\"Jhon\"\n",
        "greeting =f\"Hell ,{name}\"\n",
        "print(greeting)"
      ],
      "metadata": {
        "colab": {
          "base_uri": "https://localhost:8080/"
        },
        "id": "i3kKb9-7i_XV",
        "outputId": "22ebe3a6-3b90-40d0-cdd4-5ba641614298"
      },
      "execution_count": null,
      "outputs": [
        {
          "output_type": "stream",
          "name": "stdout",
          "text": [
            "Hell ,Jhon\n"
          ]
        }
      ]
    },
    {
      "cell_type": "code",
      "source": [
        "is_active =True\n",
        "is_logged_in =False\n",
        "\n",
        "if is_active and not is_logged_in:\n",
        "    print(\"User is active and not logged in.\")\n"
      ],
      "metadata": {
        "colab": {
          "base_uri": "https://localhost:8080/"
        },
        "id": "hPcwZPRUjMsH",
        "outputId": "e47da86c-5c29-44d8-96b5-b662a70af6fc"
      },
      "execution_count": null,
      "outputs": [
        {
          "output_type": "stream",
          "name": "stdout",
          "text": [
            "User is active and not logged in.\n"
          ]
        }
      ]
    },
    {
      "cell_type": "markdown",
      "source": [
        "리스트는 여러 값을 순서대로 저장하며, 중복을 허용합니다."
      ],
      "metadata": {
        "id": "wvPY0Wntk95l"
      }
    },
    {
      "cell_type": "code",
      "source": [
        "numbers =[1,2,3,4,5]\n",
        "numbers.append(6)\n",
        "\n",
        "print(numbers)\n",
        "print(f\"첫번째 요소 :{numbers[0]}\")"
      ],
      "metadata": {
        "colab": {
          "base_uri": "https://localhost:8080/"
        },
        "id": "n52ir3cLjvll",
        "outputId": "e5a8197f-bed6-46af-ed00-30a658542b6c"
      },
      "execution_count": null,
      "outputs": [
        {
          "output_type": "stream",
          "name": "stdout",
          "text": [
            "[1, 2, 3, 4, 5, 6]\n",
            "첫번째 요소 :1\n"
          ]
        }
      ]
    },
    {
      "cell_type": "markdown",
      "source": [
        "튜플은 리스트와 비슷하지만, 불변형 자료형으로 수정이 불가능합니다.\n"
      ],
      "metadata": {
        "id": "1APTambhk1C2"
      }
    },
    {
      "cell_type": "code",
      "source": [
        "coordinates =(10,20)\n",
        "print(coordinates)"
      ],
      "metadata": {
        "colab": {
          "base_uri": "https://localhost:8080/"
        },
        "id": "zcPGX7a1kzcd",
        "outputId": "d599dc10-8372-4923-f418-67f6ec55ac0a"
      },
      "execution_count": null,
      "outputs": [
        {
          "output_type": "stream",
          "name": "stdout",
          "text": [
            "(10, 20)\n"
          ]
        }
      ]
    },
    {
      "cell_type": "markdown",
      "source": [
        "딕셔너리는 키와 값을 쌍으로 저장합니다."
      ],
      "metadata": {
        "id": "PczsLQIbmBDs"
      }
    },
    {
      "cell_type": "code",
      "source": [
        "person={\n",
        "    \"name\":\"Alice\",\n",
        "    \"age\":25,\n",
        "    \"city\":\"New York\"\n",
        "}\n",
        "person[\"age\"]=26\n",
        "\n",
        "print(person)"
      ],
      "metadata": {
        "colab": {
          "base_uri": "https://localhost:8080/"
        },
        "id": "e9lDCwxilseN",
        "outputId": "a8136994-5d87-4186-979d-c6aef421ec1b"
      },
      "execution_count": null,
      "outputs": [
        {
          "output_type": "stream",
          "name": "stdout",
          "text": [
            "{'name': 'Alice', 'age': 26, 'city': 'New York'}\n"
          ]
        }
      ]
    },
    {
      "cell_type": "code",
      "source": [
        "unique_numbers ={1,2,3,4,4,5,\"1\",\"1\"}\n",
        "unique_numbers.add(6)\n",
        "\n",
        "\n",
        "print(unique_numbers)"
      ],
      "metadata": {
        "colab": {
          "base_uri": "https://localhost:8080/"
        },
        "id": "xIIXRpT-mDXl",
        "outputId": "b87a2840-07c7-44b6-8127-57ce102633b6"
      },
      "execution_count": null,
      "outputs": [
        {
          "output_type": "stream",
          "name": "stdout",
          "text": [
            "{1, 2, 3, 4, 5, '1', 6}\n"
          ]
        }
      ]
    },
    {
      "cell_type": "code",
      "source": [
        "\n",
        "# 정수형\n",
        "a = 10\n",
        "print(type(a))  # 출력: <class 'int'>\n",
        "\n",
        "# 실수형\n",
        "b = 3.14\n",
        "print(type(b))  # 출력: <class 'float'>\n",
        "\n",
        "# 문자열형\n",
        "c = \"Hello\"\n",
        "print(type(c))  # 출력: <class 'str'>\n",
        "\n",
        "# 리스트형\n",
        "d = [1, 2, 3, 4, 5]\n",
        "print(type(d))  # 출력: <class 'list'>\n",
        "\n",
        "# 튜플형\n",
        "e = (1, 2, 3)\n",
        "print(type(e))  # 출력: <class 'tuple'>\n",
        "\n",
        "# 딕셔너리형\n",
        "f = {\"name\": \"John\", \"age\": 30}\n",
        "print(type(f))  # 출력: <class 'dict'>"
      ],
      "metadata": {
        "colab": {
          "base_uri": "https://localhost:8080/"
        },
        "id": "xyAOFqr-mnB1",
        "outputId": "0e6c1292-0b97-4421-8df6-1fe63c2b0cb2"
      },
      "execution_count": null,
      "outputs": [
        {
          "output_type": "stream",
          "name": "stdout",
          "text": [
            "<class 'int'>\n",
            "<class 'float'>\n",
            "<class 'str'>\n",
            "<class 'list'>\n",
            "<class 'tuple'>\n",
            "<class 'dict'>\n"
          ]
        }
      ]
    },
    {
      "cell_type": "markdown",
      "source": [
        "# 3.연산자\n"
      ],
      "metadata": {
        "id": "BOfPAZGThhiK"
      }
    },
    {
      "cell_type": "code",
      "source": [
        "a = int(input(\"첫 번째 숫자를 입력하세요: \"))\n",
        "b = int(input(\"두 번째 숫자를 입력하세요: \"))\n",
        "\n",
        "print(\"덧셈:\", a + b)\n",
        "print(\"뺄셈:\", a - b)\n",
        "print(\"곱셈:\", a * b)\n",
        "print(\"나눗셈:\", a / b)\n",
        "print(\"몫:\", a // b)\n",
        "print(\"나머지:\", a % b)\n",
        "print(\"거듭제곱:\", a ** b)"
      ],
      "metadata": {
        "colab": {
          "base_uri": "https://localhost:8080/"
        },
        "id": "32zPZkeZkJHR",
        "outputId": "9f2f2275-354d-4a5e-b382-a61d045e18b6"
      },
      "execution_count": 1,
      "outputs": [
        {
          "output_type": "stream",
          "name": "stdout",
          "text": [
            "첫 번째 숫자를 입력하세요: 3\n",
            "두 번째 숫자를 입력하세요: 5\n",
            "덧셈: 8\n",
            "뺄셈: -2\n",
            "곱셈: 15\n",
            "나눗셈: 0.6\n",
            "몫: 0\n",
            "나머지: 3\n",
            "거듭제곱: 243\n"
          ]
        }
      ]
    },
    {
      "cell_type": "code",
      "source": [
        "age =int(input(\"나이를 입력하세요:\"))\n",
        "\n",
        "is_teenager = age >= 13 and age <= 19\n",
        "\n",
        "print(\"청소년 여부\",is_teenager)"
      ],
      "metadata": {
        "colab": {
          "base_uri": "https://localhost:8080/"
        },
        "id": "ePiqom0XlFcA",
        "outputId": "a0fcab08-ca07-4d09-d508-7a3cfa51c493"
      },
      "execution_count": 3,
      "outputs": [
        {
          "output_type": "stream",
          "name": "stdout",
          "text": [
            "나이를 입력하세요:26\n",
            "청소년 여부 False\n"
          ]
        }
      ]
    },
    {
      "cell_type": "code",
      "source": [
        "score=int(input(\"점수를 입력하세요\"))\n",
        "\n",
        "if score>=60:\n",
        "    print(\"합격입니다\")\n",
        "else:\n",
        "    print(\"불합격입니다.\")"
      ],
      "metadata": {
        "colab": {
          "base_uri": "https://localhost:8080/"
        },
        "id": "M66-DjnpkoHp",
        "outputId": "1db9a660-7149-41f0-a777-87980f799932"
      },
      "execution_count": 2,
      "outputs": [
        {
          "output_type": "stream",
          "name": "stdout",
          "text": [
            "점수를 입력하세요95\n",
            "합격입니다\n"
          ]
        }
      ]
    },
    {
      "cell_type": "markdown",
      "source": [
        "# 4.조건문"
      ],
      "metadata": {
        "id": "bbTo-IjzoG7h"
      }
    },
    {
      "cell_type": "code",
      "source": [
        "x = 10\n",
        "\n",
        "if x > 5:\n",
        "    print(\"x는 5보다 큽니다.\")\n"
      ],
      "metadata": {
        "colab": {
          "base_uri": "https://localhost:8080/"
        },
        "id": "YpbyEZGQoexf",
        "outputId": "7bd5435f-b7f6-4876-d86f-9e43606333cf"
      },
      "execution_count": 4,
      "outputs": [
        {
          "output_type": "stream",
          "name": "stdout",
          "text": [
            "x는 5보다 큽니다.\n"
          ]
        }
      ]
    },
    {
      "cell_type": "code",
      "source": [
        "x = 3\n",
        "\n",
        "if x > 5:\n",
        "    print(\"x는 5보다 큽니다.\")\n",
        "else:\n",
        "    print(\"x는 5보다 작거나 같습니다.\")\n"
      ],
      "metadata": {
        "colab": {
          "base_uri": "https://localhost:8080/"
        },
        "id": "A67dFmKZojSn",
        "outputId": "ab9615a4-5abc-4f5d-d932-1ac6964c1361"
      },
      "execution_count": 5,
      "outputs": [
        {
          "output_type": "stream",
          "name": "stdout",
          "text": [
            "x는 5보다 작거나 같습니다.\n"
          ]
        }
      ]
    },
    {
      "cell_type": "code",
      "source": [
        "age = 20\n",
        "student = True\n",
        "\n",
        "if age >= 18:\n",
        "    if student:\n",
        "        print(\"성인 학생입니다.\")\n",
        "    else:\n",
        "        print(\"성인이지만 학생은 아닙니다.\")\n"
      ],
      "metadata": {
        "colab": {
          "base_uri": "https://localhost:8080/"
        },
        "id": "XH7Mj5Gcom83",
        "outputId": "9039caa3-4a9e-4a2d-d09a-8f9ed11559e4"
      },
      "execution_count": 6,
      "outputs": [
        {
          "output_type": "stream",
          "name": "stdout",
          "text": [
            "성인 학생입니다.\n"
          ]
        }
      ]
    },
    {
      "cell_type": "code",
      "source": [
        "x=int(input(\"숫자를 입력하세요\"))\n",
        "result =\"x는 5보다 큽니다.\" if x>5 else \"x는 5보다 작거나 같습니다.\"\n",
        "\n",
        "print(result)"
      ],
      "metadata": {
        "colab": {
          "base_uri": "https://localhost:8080/"
        },
        "id": "nSAyUravotQn",
        "outputId": "2ff6494f-63a2-450f-a413-eeb67df52850"
      },
      "execution_count": 10,
      "outputs": [
        {
          "output_type": "stream",
          "name": "stdout",
          "text": [
            "숫자를 입력하세요5\n",
            "x는 5보다 작거나 같습니다.\n"
          ]
        }
      ]
    },
    {
      "cell_type": "markdown",
      "source": [
        "# 5.실습문제"
      ],
      "metadata": {
        "id": "7OHQ3KQGoQmX"
      }
    },
    {
      "cell_type": "code",
      "source": [
        "#정수 판별하기\n",
        "num = int(input(\"숫자를 입력하세요: \"))\n",
        "\n",
        "if num>0:\n",
        "    print(\"정수입니다\")\n",
        "elif num<0:\n",
        "    print(\"음수입니다.\")\n",
        "else:\n",
        "    print(\"0입니다.\")\n",
        "\n",
        "\n",
        "\n"
      ],
      "metadata": {
        "colab": {
          "base_uri": "https://localhost:8080/"
        },
        "id": "5aYWSOoEGYd0",
        "outputId": "20863900-916e-4269-eaed-4d2d752669f3"
      },
      "execution_count": 2,
      "outputs": [
        {
          "output_type": "stream",
          "name": "stdout",
          "text": [
            "숫자를 입력하세요50\n",
            "정수입니다\n"
          ]
        }
      ]
    },
    {
      "cell_type": "code",
      "source": [
        "# 입력 예: 8\n",
        "# 출력 예: 짝수입니다.\n",
        "num2 = int(input(\"숫자를 입력하세요\"))\n",
        "\n",
        "if(num2%2==0):\n",
        "    print(\"짝수입니다.\")\n",
        "else:\n",
        "    print(\"홀수입니다.\")\n"
      ],
      "metadata": {
        "id": "7lXeh9SwIJ6_"
      },
      "execution_count": 3,
      "outputs": []
    },
    {
      "cell_type": "code",
      "source": [
        "# 입력 예: 5 9\n",
        "# 출력 예: 더 큰 수는 9입니다.\n",
        "num1 = int(input(\"첫 번째 숫자를 입력하세요: \"))\n",
        "num2 = int(input(\"두 번째 숫자를 입력하세요: \"))\n",
        "\n",
        "#result=str(num1)+\"이 더 큽니다.\"if num1>num2 else str(num1)+\"은 \"+str(num2)+\" 보다 작거나 같습니다.\"\n",
        "#print(result)\n",
        "\n",
        "if num1>num2:\n",
        "    print(f\"더 큰 수는 {num1}입니다.\")\n",
        "else:\n",
        "    print(f\"더 큰 수는 {num2}입니다.\")\n"
      ],
      "metadata": {
        "colab": {
          "base_uri": "https://localhost:8080/"
        },
        "id": "qbL0pllTIcxi",
        "outputId": "0ef71f23-9bfd-4e88-e2b4-b9e5c69bedd3"
      },
      "execution_count": 7,
      "outputs": [
        {
          "output_type": "stream",
          "name": "stdout",
          "text": [
            "첫 번째 숫자를 입력하세요: 5\n",
            "두 번째 숫자를 입력하세요: 3\n",
            "더 큰 수는 5입니다.\n"
          ]
        }
      ]
    },
    {
      "cell_type": "code",
      "source": [
        "# 입력 예: 82\n",
        "# 출력 예: B학점입니다.\n",
        "\n",
        "num1 = int(input(\"점수를 입력하세요: \"))\n",
        "\n",
        "if num1>=90:\n",
        "    print(\"A학점입니다\")\n",
        "elif num1>=80:\n",
        "    print(\"B학점입니다\")\n",
        "elif num1>=70:\n",
        "    print(\"C학점입니다\")\n",
        "elif num1>=60:\n",
        "    print(\"D학점입니다\")\n",
        "else:\n",
        "    print(\"F학점입니다\")\n"
      ],
      "metadata": {
        "colab": {
          "base_uri": "https://localhost:8080/"
        },
        "id": "FgCqYgsBJ0-x",
        "outputId": "1a7c4757-aa69-443d-d327-63820b95ff49"
      },
      "execution_count": 8,
      "outputs": [
        {
          "output_type": "stream",
          "name": "stdout",
          "text": [
            "점수를 입력하세요: 85\n",
            "B학점입니다\n"
          ]
        }
      ]
    },
    {
      "cell_type": "code",
      "source": [
        "# 입력 예: 7\n",
        "# 출력 예: 리스트에 포함되어 있습니다.\n",
        "list =[3,7,9,12]\n",
        "\n",
        "num1 = int(input(\"숫자를 입력하세요: \"))\n",
        "\n",
        "if num1 in list:\n",
        "    print(\"리스트에 포함되어 있습니다.\")\n",
        "else:\n",
        "    print(\"리스트에 포함되어 있지 않습니다.\")"
      ],
      "metadata": {
        "colab": {
          "base_uri": "https://localhost:8080/"
        },
        "id": "0M_GLDUmM8sQ",
        "outputId": "f5cb1ce3-d0c4-4c7a-d20b-3c038de8b321"
      },
      "execution_count": 10,
      "outputs": [
        {
          "output_type": "stream",
          "name": "stdout",
          "text": [
            "숫자를 입력하세요: 9\n",
            "리스트에 포함되어 있습니다.\n"
          ]
        }
      ]
    },
    {
      "cell_type": "code",
      "source": [
        "# 입력 예: 10 10\n",
        "# 출력 예: 같습니다.\n",
        "num1 = int(input(\"첫 번째 숫자를 입력하세요: \"))\n",
        "num2 = int(input(\"두 번째 숫자를 입력하세요: \"))\n",
        "\n",
        "if num1==num2:\n",
        "    print(\"같습니다.\")\n",
        "else:\n",
        "    print(\"같지 않습니다.\")"
      ],
      "metadata": {
        "colab": {
          "base_uri": "https://localhost:8080/"
        },
        "id": "lxm9Nx8oNZoB",
        "outputId": "6a843797-5079-40b9-e9ed-e31fa34a9ca4"
      },
      "execution_count": 11,
      "outputs": [
        {
          "output_type": "stream",
          "name": "stdout",
          "text": [
            "첫 번째 숫자를 입력하세요: 11\n",
            "두 번째 숫자를 입력하세요: 10\n",
            "같지 않습니다.\n"
          ]
        }
      ]
    },
    {
      "cell_type": "code",
      "source": [
        "# 입력 예: hello\n",
        "# 출력 예: 길어요\n",
        "\n",
        "word = input(\"단어를 입력하세요: \")\n",
        "\n",
        "if len(word)>=5:\n",
        "    print(\"길어요\")\n",
        "else:\n",
        "    print(\"짧아요\")\n",
        "\n"
      ],
      "metadata": {
        "colab": {
          "base_uri": "https://localhost:8080/"
        },
        "id": "VwKXL3XIKXI0",
        "outputId": "33f6d0a8-a1b6-43b9-b431-aaac845dae58"
      },
      "execution_count": 9,
      "outputs": [
        {
          "output_type": "stream",
          "name": "stdout",
          "text": [
            "단어를 입력하세요: tython\n",
            "길어요\n"
          ]
        }
      ]
    },
    {
      "cell_type": "code",
      "source": [
        "num1 = int(input(\"숫자를 입력하세요\"))\n",
        "if 1<=num1 and num1<=100:\n",
        "    print(\"범위안\")\n",
        "else:\n",
        "    print(\"범위밖\")"
      ],
      "metadata": {
        "colab": {
          "base_uri": "https://localhost:8080/"
        },
        "id": "Mzs5apMMNvZA",
        "outputId": "3470ef82-185d-4ee9-b4ff-9a614f83d2b0"
      },
      "execution_count": 12,
      "outputs": [
        {
          "output_type": "stream",
          "name": "stdout",
          "text": [
            "숫자를 입력하세요95\n",
            "범위안\n"
          ]
        }
      ]
    },
    {
      "cell_type": "code",
      "source": [
        "# 입력 예: admin 1234\n",
        "# 출력 예: 로그인 성공\n",
        "\n",
        "admin = input(\"아이디를 입력하세요\")\n",
        "pw = int(input(\"비밀번호를 입력하세요\"))\n",
        "\n",
        "if admin==\"admin\" and pw==1234:\n",
        "    print(\"로그인 성공\")\n",
        "else:\n",
        "    print(\"로그인 실패\")\n"
      ],
      "metadata": {
        "colab": {
          "base_uri": "https://localhost:8080/"
        },
        "id": "G97SaRinOYpw",
        "outputId": "901af70f-b794-4d67-fe3f-6e47d095f48d"
      },
      "execution_count": 15,
      "outputs": [
        {
          "output_type": "stream",
          "name": "stdout",
          "text": [
            "아이디를 입력하세요admin\n",
            "비밀번호를 입력하세요1234\n",
            "로그인 성공\n"
          ]
        }
      ]
    },
    {
      "cell_type": "code",
      "source": [
        "# 입력 예: 9\n",
        "# 출력 예: 3의 배수입니다.\n",
        "\n",
        "num1 = int(input(\"숫자를 입력하세요 : \"))\n",
        "if num1%3==0:\n",
        "    print(\"3의 배수입니다\")\n",
        "else:\n",
        "    print(\"3의 배수가 아닙니다\")\n"
      ],
      "metadata": {
        "colab": {
          "base_uri": "https://localhost:8080/"
        },
        "id": "hD2ZgxfdPZG5",
        "outputId": "7b89b8e2-ca74-48b8-971c-b23c79dbec7d"
      },
      "execution_count": 16,
      "outputs": [
        {
          "output_type": "stream",
          "name": "stdout",
          "text": [
            "숫자를 입력하세요95\n",
            "3의 배수가 아닙니다\n"
          ]
        }
      ]
    }
  ]
}