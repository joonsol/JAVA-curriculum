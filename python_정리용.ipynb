{
  "nbformat": 4,
  "nbformat_minor": 0,
  "metadata": {
    "colab": {
      "provenance": [],
      "toc_visible": true,
      "authorship_tag": "ABX9TyN9AwvDu3riZ32fJzq3OpiV",
      "include_colab_link": true
    },
    "kernelspec": {
      "name": "python3",
      "display_name": "Python 3"
    },
    "language_info": {
      "name": "python"
    }
  },
  "cells": [
    {
      "cell_type": "markdown",
      "metadata": {
        "id": "view-in-github",
        "colab_type": "text"
      },
      "source": [
        "<a href=\"https://colab.research.google.com/github/joonsol/JAVA-curriculum/blob/main/python_%EC%A0%95%EB%A6%AC%EC%9A%A9.ipynb\" target=\"_parent\"><img src=\"https://colab.research.google.com/assets/colab-badge.svg\" alt=\"Open In Colab\"/></a>"
      ]
    },
    {
      "cell_type": "code",
      "execution_count": null,
      "metadata": {
        "colab": {
          "base_uri": "https://localhost:8080/"
        },
        "id": "7Ihy4xgp95qW",
        "outputId": "db591b2c-44f3-42fe-a9ed-07b8eb583a16"
      },
      "outputs": [
        {
          "output_type": "stream",
          "name": "stdout",
          "text": [
            "hello python!\n"
          ]
        }
      ],
      "source": [
        "print(\"hello python!\")"
      ]
    },
    {
      "cell_type": "markdown",
      "source": [
        "# 1.자료형 출력하기"
      ],
      "metadata": {
        "id": "aR5oYlWO9_Ot"
      }
    },
    {
      "cell_type": "code",
      "source": [
        "#정수형\n",
        "x=10\n",
        "y=5\n",
        "z=x+y\n",
        "print(z)\n",
        "print(f\"x:{x} y:{y} z:{z}\")\n",
        "print(type(z))"
      ],
      "metadata": {
        "colab": {
          "base_uri": "https://localhost:8080/"
        },
        "id": "H8dpjV4X-3CM",
        "outputId": "95cc1b85-1e4e-4991-d648-4a408c416091"
      },
      "execution_count": null,
      "outputs": [
        {
          "output_type": "stream",
          "name": "stdout",
          "text": [
            "15\n",
            "x:10 y:5 z:15\n",
            "<class 'int'>\n"
          ]
        }
      ]
    },
    {
      "cell_type": "code",
      "source": [
        "# 실수형\n",
        "pi =3.14159\n",
        "radius=5\n",
        "area=pi*radius*radius\n",
        "print(area)\n",
        "print(f\"pi:{pi} radius:{radius} area:{area}\")\n",
        "print(type(area))"
      ],
      "metadata": {
        "colab": {
          "base_uri": "https://localhost:8080/"
        },
        "id": "Vitkofd9_NEu",
        "outputId": "c6dd6d86-45dc-4c4b-bfc1-a70244a4c5cc"
      },
      "execution_count": null,
      "outputs": [
        {
          "output_type": "stream",
          "name": "stdout",
          "text": [
            "78.53975\n",
            "pi:3.14159 radius:5 area:78.53975\n",
            "<class 'float'>\n"
          ]
        }
      ]
    },
    {
      "cell_type": "code",
      "source": [
        "from os import name\n",
        "# 문자열\n",
        "name=\"Jhon\"\n",
        "greeting =f\"Hello ,{name}\"\n",
        "print(greeting)\n",
        "print(type(greeting))"
      ],
      "metadata": {
        "colab": {
          "base_uri": "https://localhost:8080/"
        },
        "id": "gA77CkIN_cCj",
        "outputId": "ee1af107-a05c-4932-b29c-03679e272251"
      },
      "execution_count": null,
      "outputs": [
        {
          "output_type": "stream",
          "name": "stdout",
          "text": [
            "Hello ,Jhon\n",
            "<class 'str'>\n"
          ]
        }
      ]
    },
    {
      "cell_type": "code",
      "source": [
        "# boolean\n",
        "is_active=True\n",
        "is_looed_in=False\n",
        "if is_active:\n",
        "  print(\"활성화 상태입니다.\")\n",
        "else:\n",
        "  print(\"비활성화 상태입니다.\")\n",
        "\n",
        "  if is_looed_in:\n",
        "    print(\"로그인 상태입니다.\")\n",
        "  else:\n",
        "    print(\"로그아웃 상태입니다.\")\n",
        "\n",
        "print(type(is_looed_in))"
      ],
      "metadata": {
        "colab": {
          "base_uri": "https://localhost:8080/"
        },
        "id": "jaPCNQtO_tjL",
        "outputId": "d07610d8-badd-4ba4-fd29-99f1bcdc01d8"
      },
      "execution_count": null,
      "outputs": [
        {
          "output_type": "stream",
          "name": "stdout",
          "text": [
            "활성화 상태입니다.\n",
            "<class 'bool'>\n"
          ]
        }
      ]
    },
    {
      "cell_type": "code",
      "source": [
        "# list\n",
        "numbers =[1,2,3,4,5]\n",
        "numbers.append(6)\n",
        "print(numbers)\n",
        "print(f\"리스트의 길이:{len(numbers)}\")\n",
        "\n",
        "print(type(numbers))"
      ],
      "metadata": {
        "colab": {
          "base_uri": "https://localhost:8080/"
        },
        "id": "5bc6vk38AK6r",
        "outputId": "843fde8e-08d2-4fed-e6da-7ac50285f3d4"
      },
      "execution_count": null,
      "outputs": [
        {
          "output_type": "stream",
          "name": "stdout",
          "text": [
            "[1, 2, 3, 4, 5, 6]\n",
            "리스트의 길이:6\n",
            "<class 'list'>\n"
          ]
        }
      ]
    },
    {
      "cell_type": "code",
      "source": [
        "# tuple\n",
        "coordinates=(10,20)\n",
        "print(coordinates[0])\n",
        "print(coordinates[1])\n",
        "# coordinates[0]=30"
      ],
      "metadata": {
        "colab": {
          "base_uri": "https://localhost:8080/"
        },
        "id": "OCVkxiASAgk2",
        "outputId": "a0371a72-310a-4c40-f5ac-39f723381af2"
      },
      "execution_count": null,
      "outputs": [
        {
          "output_type": "stream",
          "name": "stdout",
          "text": [
            "10\n",
            "20\n"
          ]
        }
      ]
    },
    {
      "cell_type": "code",
      "source": [
        "# dict\n",
        "person={\"name\":\"John\",\"age\":30,\"city\":\"New York\"}\n",
        "print(person[\"name\"])\n",
        "print(person[\"age\"])\n",
        "print(person[\"city\"])\n",
        "print(type(person))"
      ],
      "metadata": {
        "colab": {
          "base_uri": "https://localhost:8080/"
        },
        "id": "ZItxqtGLAyoj",
        "outputId": "4c899b0b-9f5f-406c-97df-ee36a2ec9c1c"
      },
      "execution_count": null,
      "outputs": [
        {
          "output_type": "stream",
          "name": "stdout",
          "text": [
            "John\n",
            "30\n",
            "New York\n",
            "<class 'dict'>\n"
          ]
        }
      ]
    },
    {
      "cell_type": "code",
      "source": [
        "# set\n",
        "unique_numbers={1,2,3,4,5,1,2,3}\n",
        "print(unique_numbers)\n",
        "print(type(unique_numbers))"
      ],
      "metadata": {
        "colab": {
          "base_uri": "https://localhost:8080/"
        },
        "id": "pmnrzBQtBXgG",
        "outputId": "ff5f12ac-ee5b-4e30-95c8-21dfe0a63fcf"
      },
      "execution_count": null,
      "outputs": [
        {
          "output_type": "stream",
          "name": "stdout",
          "text": [
            "{1, 2, 3, 4, 5}\n",
            "<class 'set'>\n"
          ]
        }
      ]
    },
    {
      "cell_type": "markdown",
      "source": [
        "# 2.문자열처리"
      ],
      "metadata": {
        "id": "alnK1ljg-Jq9"
      }
    },
    {
      "cell_type": "code",
      "source": [
        "text =\"Hello, Python\"\n",
        "print(text[0])\n",
        "print(text[2])\n",
        "print(text[-1])\n",
        "print(text[0:5])\n",
        "print(text[7:])\n",
        "print(text[:5])"
      ],
      "metadata": {
        "id": "OCfunp24B_sS"
      },
      "execution_count": null,
      "outputs": []
    },
    {
      "cell_type": "code",
      "source": [
        "name=\"Alice\"\n",
        "age=25\n",
        "print(f\"{name}의 나이는 {age}세 입니다\")\n",
        "\n",
        "#format\n",
        "print(\"{}의 나이는 {}세 입니다\".format(name,age))\n",
        "#%\n",
        "print(\"%s의 나이는 %d세 입니다\"%(name,age))"
      ],
      "metadata": {
        "id": "MYHUaWtsCTvw"
      },
      "execution_count": null,
      "outputs": []
    },
    {
      "cell_type": "code",
      "source": [
        "s=\" Hello Hello\"\n",
        "print(s.strip())#공백제거\n",
        "print(s.upper())#대문자\n",
        "print(s.lower())#소문자"
      ],
      "metadata": {
        "id": "WrszIPLQCXXr"
      },
      "execution_count": null,
      "outputs": []
    },
    {
      "cell_type": "code",
      "source": [
        "s = \" Hello \"\n",
        "print(s.strip())  # 'Hello'//양끝 공백만 제거됨"
      ],
      "metadata": {
        "id": "jDeaP0oiCcsi"
      },
      "execution_count": null,
      "outputs": []
    },
    {
      "cell_type": "markdown",
      "source": [
        "#3.사용자입력"
      ],
      "metadata": {
        "id": "YzLUnbgL-O4_"
      }
    },
    {
      "cell_type": "code",
      "source": [
        "name = input(\"이름을 입력하세요: \")\n",
        "print(f\"{name}님, 반갑습니다.\")\n"
      ],
      "metadata": {
        "id": "CiT0roiFCesS"
      },
      "execution_count": null,
      "outputs": []
    },
    {
      "cell_type": "code",
      "source": [
        "x,y = input(\"두 숫자를 입력하세요 (예:10,20): \").split(\",\")\n",
        "print(f\"x:{x} y:{y}\")"
      ],
      "metadata": {
        "colab": {
          "base_uri": "https://localhost:8080/"
        },
        "id": "YMb3gJkPCrBC",
        "outputId": "11af1e5e-c604-4922-c581-c8a33d2b7661"
      },
      "execution_count": null,
      "outputs": [
        {
          "output_type": "stream",
          "name": "stdout",
          "text": [
            "두 숫자를 입력하세요 (예:10,20): 10,20\n",
            "x:10 y:20\n"
          ]
        }
      ]
    },
    {
      "cell_type": "markdown",
      "source": [
        "#4.연산자"
      ],
      "metadata": {
        "id": "LUZI40Pu-SWt"
      }
    },
    {
      "cell_type": "code",
      "source": [
        "a = int(input(\"첫 번째 숫자를 입력하세요: \"))\n",
        "b = int(input(\"두 번째 숫자를 입력하세요: \"))\n",
        "\n",
        "print(\"덧셈:\", a + b)\n",
        "print(\"뺄셈:\", a - b)\n",
        "print(\"곱셈:\", a * b)\n",
        "print(\"나눗셈:\", a / b)\n",
        "print(\"몫:\", a // b)\n",
        "print(\"나머지:\", a % b)\n",
        "print(\"거듭제곱:\", a ** b)"
      ],
      "metadata": {
        "id": "aAqFgZ7vC_VS"
      },
      "execution_count": null,
      "outputs": []
    },
    {
      "cell_type": "code",
      "source": [
        "age =int(input(\"나이를 입력하세요:\"))\n",
        "\n",
        "is_teenager = age >= 13 and age <= 19\n",
        "\n",
        "print(\"청소년 여부\",is_teenager)"
      ],
      "metadata": {
        "id": "LQyzBeo3DDWr"
      },
      "execution_count": null,
      "outputs": []
    },
    {
      "cell_type": "code",
      "source": [
        "score=int(input(\"점수를 입력하세요\"))\n",
        "\n",
        "if score>=60:\n",
        "    print(\"합격입니다\")\n",
        "else:\n",
        "    print(\"불합격입니다.\")"
      ],
      "metadata": {
        "id": "LMdamuzzDHpy"
      },
      "execution_count": null,
      "outputs": []
    },
    {
      "cell_type": "markdown",
      "source": [
        "# 5.실습문제"
      ],
      "metadata": {
        "id": "DRJTczpr-dK0"
      }
    },
    {
      "cell_type": "code",
      "source": [
        "#사용자로부터 이름과 나이를 입력받아 다음 형식으로 출력하시오.\n",
        "\n",
        "#예: `홍길동님은 25세입니다.`\n",
        "name=(input(\"이름을 입력하세요:\"))\n",
        "age=(input(\"나이를 입력하세요:\"))\n",
        "\n",
        "print(f\"{name}님은 {age}세입니다.\")"
      ],
      "metadata": {
        "colab": {
          "base_uri": "https://localhost:8080/"
        },
        "id": "1qD0tTusDKvy",
        "outputId": "60dfd532-21ab-4f23-c39a-f28634377724"
      },
      "execution_count": null,
      "outputs": [
        {
          "output_type": "stream",
          "name": "stdout",
          "text": [
            "이름을 입력하세요:alice\n",
            "나이를 입력하세요:20\n",
            "alice님은 20세입니다.\n"
          ]
        }
      ]
    },
    {
      "cell_type": "code",
      "source": [
        "# 두 개의 정수를 입력받아, 덧셈 결과를 출력하시오.\n",
        "\n",
        "# 예: `10 + 20 = 30`"
      ],
      "metadata": {
        "id": "JTjTCsUDDQ9k"
      },
      "execution_count": null,
      "outputs": []
    },
    {
      "cell_type": "code",
      "source": [
        "num1=int(input(\"첫 번째 정수를 입력하세요:\"))\n",
        "num2=int(input(\"두 번째 정수를 입력하세요:\"))\n",
        "\n",
        "print(f\"{num1} + {num2} = {num1+num2}\")"
      ],
      "metadata": {
        "colab": {
          "base_uri": "https://localhost:8080/"
        },
        "id": "mugsIzPSDsPK",
        "outputId": "c0d47c6f-ed3d-466a-b1d2-7b8fc0864f36"
      },
      "execution_count": null,
      "outputs": [
        {
          "output_type": "stream",
          "name": "stdout",
          "text": [
            "첫 번째 정수를 입력하세요:5\n",
            "두 번째 정수를 입력하세요:6\n",
            "5 + 6 = 11\n"
          ]
        }
      ]
    },
    {
      "cell_type": "code",
      "source": [
        "# 사용자로부터 반지름을 입력받아 원의 넓이를 계산하시오.\n",
        "\n",
        "# (원의 넓이 = 3.14 × 반지름²)\n",
        "pi = 3.14\n",
        "radius = float(input(\"반지름을 입력하세요: \"))#실수로\n",
        "\n",
        "area = pi * radius * radius\n",
        "\n",
        "print(f\"원의 넓이: {area}\")"
      ],
      "metadata": {
        "colab": {
          "base_uri": "https://localhost:8080/"
        },
        "id": "avngLSllDTka",
        "outputId": "efb7c9ac-2da9-49fc-e82a-60f69314656c"
      },
      "execution_count": null,
      "outputs": [
        {
          "output_type": "stream",
          "name": "stdout",
          "text": [
            "반지름을 입력하세요: 6\n",
            "원의 넓이: 113.03999999999999\n"
          ]
        }
      ]
    },
    {
      "cell_type": "code",
      "source": [
        "# 사용자로부터 정수를 입력받아 짝수인지 홀수인지 판별하시오.\n",
        "num = int(input(\"정수를 입력하세요 : \"))\n",
        "if num%2==0:\n",
        "    print(\"짝수\")\n",
        "else :\n",
        "    print(\"홀수\")\n"
      ],
      "metadata": {
        "colab": {
          "base_uri": "https://localhost:8080/"
        },
        "id": "hmaOIJJvDWa7",
        "outputId": "4923a37c-f640-430b-c423-721e2473c97c"
      },
      "execution_count": null,
      "outputs": [
        {
          "output_type": "stream",
          "name": "stdout",
          "text": [
            "정수를 입력하세요 : 20\n",
            "짝수\n"
          ]
        }
      ]
    },
    {
      "cell_type": "code",
      "source": [
        "# 사용자로부터 키(cm)와 몸무게(kg)를 입력받아 BMI 지수를 계산하시오.\n",
        "\n",
        "# (BMI = 몸무게 / (키 × 키), 단 키는 m 단위로 변환)\n",
        "height = float(input(\"키를 입력하세요\"))\n",
        "weight = int(input(\"몸무게를 입력하세요\"))\n",
        "\n",
        "height_m=height/100\n",
        "\n",
        "bmi = weight /(height_m**2)\n",
        "\n",
        "print(f\"당신의 BMI는 {bmi}\")"
      ],
      "metadata": {
        "colab": {
          "base_uri": "https://localhost:8080/"
        },
        "id": "RWKJeRynDYyS",
        "outputId": "b0e52a95-42d4-4bf6-fa5b-53713385e717"
      },
      "execution_count": null,
      "outputs": [
        {
          "output_type": "stream",
          "name": "stdout",
          "text": [
            "키를 입력하세요169\n",
            "몸무게를 입력하세요51\n",
            "당신의 BMI는 17.856517628934565\n"
          ]
        }
      ]
    },
    {
      "cell_type": "markdown",
      "source": [
        "# 6.조건문"
      ],
      "metadata": {
        "id": "HOeQKkZpyMZ7"
      }
    },
    {
      "cell_type": "code",
      "source": [
        "x=10\n",
        "if x>5:\n",
        "    print(\"x는 5보다 큽니다.\")"
      ],
      "metadata": {
        "colab": {
          "base_uri": "https://localhost:8080/"
        },
        "id": "lGfDB76Syami",
        "outputId": "6608eab8-74c7-45fa-a5ee-14f7c09a55f2"
      },
      "execution_count": 1,
      "outputs": [
        {
          "output_type": "stream",
          "name": "stdout",
          "text": [
            "x는 5보다 큽니다.\n"
          ]
        }
      ]
    },
    {
      "cell_type": "code",
      "source": [
        "x=int(input(\"숫자를 입력하세요\"))\n",
        "\n",
        "\n",
        "if x>10:\n",
        "    print(\"x는 10보다 큽니다.\")\n",
        "elif x>5:\n",
        "    print(\"x는 5보다 큽니다.\")\n",
        "else:\n",
        "    print(\"x는 5작거나 같습니다.\")\n",
        "\n"
      ],
      "metadata": {
        "colab": {
          "base_uri": "https://localhost:8080/"
        },
        "id": "iHhnEVY_zn4x",
        "outputId": "1b8010f7-d401-42e4-be78-06d538be86fc"
      },
      "execution_count": 4,
      "outputs": [
        {
          "output_type": "stream",
          "name": "stdout",
          "text": [
            "숫자를 입력하세요6\n",
            "x는 5보다 큽니다.\n"
          ]
        }
      ]
    },
    {
      "cell_type": "code",
      "source": [
        "#age=20\n",
        "#student=True\n",
        "age=int(input(\"나이를 입력하세요: \"))\n",
        "student=input(\"학생이면 '학생' 아니면 '기타'라고 적어주세요 : \")\n",
        "\n",
        "if age>=18:\n",
        "    if student==\"학생\":\n",
        "        print(\"성인 학생입니다.\")\n",
        "    else:\n",
        "        print(\"성인이지만 학생은 아닙니다.\")"
      ],
      "metadata": {
        "colab": {
          "base_uri": "https://localhost:8080/"
        },
        "id": "sTymRU4u0rMB",
        "outputId": "90e1dec5-b42a-4eeb-cbb6-2f4ba72dbe58"
      },
      "execution_count": 7,
      "outputs": [
        {
          "output_type": "stream",
          "name": "stdout",
          "text": [
            "나이를 입력하세요18\n",
            "학생이면 '학생' 아니면 '기타'라고 적어주세요학생\n",
            "성인 학생입니다.\n"
          ]
        }
      ]
    },
    {
      "cell_type": "code",
      "source": [
        "x=7\n",
        "\n",
        "if x>5 and x<10:\n",
        "    print(\"x는 5보다 크고, 10보다 작습니다.\")\n",
        "\n",
        "if x<5 or x>10:\n",
        "    print(\"x는 5보다 작거나 10보다 큽니다.\")\n",
        "else:\n",
        "    print(\"x는 5이상 10이하입니다.\")"
      ],
      "metadata": {
        "colab": {
          "base_uri": "https://localhost:8080/"
        },
        "id": "XYiTAZO81tWg",
        "outputId": "2891a141-f6fc-4ca9-c9bc-30c958510343"
      },
      "execution_count": 8,
      "outputs": [
        {
          "output_type": "stream",
          "name": "stdout",
          "text": [
            "x는 5보다 크고, 10보다 작습니다.\n",
            "x는 5이상 10이하입니다.\n"
          ]
        }
      ]
    },
    {
      "cell_type": "code",
      "source": [
        "x=10\n",
        "y=20\n",
        "\n",
        "if x==y:\n",
        "    print(\"x와 y는 같습니다.\")\n",
        "elif x!= y:\n",
        "    print(\"x와 y는 다릅니다.\")"
      ],
      "metadata": {
        "colab": {
          "base_uri": "https://localhost:8080/"
        },
        "id": "QH9sMPw92mQi",
        "outputId": "8d21c9a1-f768-4046-c27b-b3f1ebc2c994"
      },
      "execution_count": 10,
      "outputs": [
        {
          "output_type": "stream",
          "name": "stdout",
          "text": [
            "x와 y는 다릅니다.\n"
          ]
        }
      ]
    },
    {
      "cell_type": "code",
      "source": [
        "my_list =[1,2,3,4,5]\n",
        "\n",
        "if 3 in my_list:\n",
        "    print(\"리스트에 3이 포함되어 있습니다.\")\n",
        "\n",
        "if 6 not in my_list:\n",
        "    print(\"리스트에 6이 포함되어 있지 않습니다.\")"
      ],
      "metadata": {
        "colab": {
          "base_uri": "https://localhost:8080/"
        },
        "id": "kFKd_xR93Pop",
        "outputId": "beb53491-6306-490e-8519-269794d7ec0d"
      },
      "execution_count": 11,
      "outputs": [
        {
          "output_type": "stream",
          "name": "stdout",
          "text": [
            "리스트에 3이 포함되어 있습니다.\n",
            "리스트에 6이 포함되어 있지 않습니다.\n"
          ]
        }
      ]
    },
    {
      "cell_type": "markdown",
      "source": [
        "# 7.실습문제"
      ],
      "metadata": {
        "id": "bmhCRCJWyQ1Z"
      }
    },
    {
      "cell_type": "code",
      "source": [
        "x=int(input(\"정수를 입력하세요\"))\n",
        "\n",
        "if x>0:\n",
        "    print(\"양수입니다.\")\n",
        "elif x<0:\n",
        "    print(\"음수입니다.\")\n",
        "else:\n",
        "    print(\"0입니다.\")\n"
      ],
      "metadata": {
        "colab": {
          "base_uri": "https://localhost:8080/"
        },
        "id": "wsMZp0sa3yFY",
        "outputId": "94f9c2d5-48fa-419c-e68d-f45435cb0982"
      },
      "execution_count": 12,
      "outputs": [
        {
          "output_type": "stream",
          "name": "stdout",
          "text": [
            "정수를 입력하세요0\n",
            "0입니다.\n"
          ]
        }
      ]
    },
    {
      "cell_type": "code",
      "source": [
        "y=int(input(\"정수를 입력하세요\"))\n",
        "\n",
        "if y%2==0:\n",
        "    print(\"짝수입니다.\")\n",
        "else:\n",
        "    print(\"홀수입니다.\")\n"
      ],
      "metadata": {
        "colab": {
          "base_uri": "https://localhost:8080/"
        },
        "id": "0AZtCI9-5-26",
        "outputId": "eebe1c72-e976-46d0-aa57-b2d4a1d8c2b5"
      },
      "execution_count": 13,
      "outputs": [
        {
          "output_type": "stream",
          "name": "stdout",
          "text": [
            "정수를 입력하세요48\n",
            "짝수입니다.\n"
          ]
        }
      ]
    },
    {
      "cell_type": "code",
      "source": [
        "x=int(input(\"첫번째 수를 입력하세요\"))\n",
        "y=int(input(\"두번째 수를 입력하세요\"))\n",
        "\n",
        "if x>y :\n",
        "    print(f\" 더 큰수는{x}입니다.\")\n",
        "else:\n",
        "    print(f\" 더 큰수는{y}입니다.\")\n"
      ],
      "metadata": {
        "colab": {
          "base_uri": "https://localhost:8080/"
        },
        "id": "F7GT96hm6WPw",
        "outputId": "07c4a204-6ea2-4dd5-c176-7c03224edfd9"
      },
      "execution_count": 14,
      "outputs": [
        {
          "output_type": "stream",
          "name": "stdout",
          "text": [
            "첫번째 수를 입력하세요10\n",
            "두번째 수를 입력하세요30\n",
            " 더 큰수는30입니다.\n"
          ]
        }
      ]
    },
    {
      "cell_type": "code",
      "source": [
        "score = int(input(\"점수를 입력하세요: \"))\n",
        "\n",
        "if score>=90:\n",
        "    print(\"A\")\n",
        "elif score>=80:\n",
        "    print(\"B\")\n",
        "elif score>=70:\n",
        "    print(\"C\")\n",
        "else:\n",
        "    print(\"D\")"
      ],
      "metadata": {
        "colab": {
          "base_uri": "https://localhost:8080/"
        },
        "id": "onCSKRCm646x",
        "outputId": "8157e6f0-8875-4438-fddd-b82ab7578a66"
      },
      "execution_count": 15,
      "outputs": [
        {
          "output_type": "stream",
          "name": "stdout",
          "text": [
            "점수를 입력하세요59\n",
            "D\n"
          ]
        }
      ]
    },
    {
      "cell_type": "code",
      "source": [
        "my_list =[3, 7, 9, 12]\n",
        "\n",
        "x = int(input(\"검색할 숫자를 입력하세요\"))\n",
        "\n",
        "if x in my_list:\n",
        "    print(f\"리스트에 {x}가 있습니다.\")\n",
        "else:\n",
        "    print(f\"리스트에 {x}가 없습니다.\")\n"
      ],
      "metadata": {
        "colab": {
          "base_uri": "https://localhost:8080/"
        },
        "id": "aRoQENDr786w",
        "outputId": "4b43d4ad-4703-44de-8f13-617a1ad48102"
      },
      "execution_count": 16,
      "outputs": [
        {
          "output_type": "stream",
          "name": "stdout",
          "text": [
            "검색할 숫자를 입력하세요9\n",
            "리스트에 9가 있습니다.\n"
          ]
        }
      ]
    },
    {
      "cell_type": "code",
      "source": [
        "x=int(input(\"첫번째 숫자 입력\"))\n",
        "y=int(input(\"두번째 숫자 입력\"))\n",
        "\n",
        "if x==y:\n",
        "    print(f\"{x}와 {y}는 같습니다.\")\n",
        "else:\n",
        "    print(f\"{x}와 {y}는 같지 않습니다.\")\n"
      ],
      "metadata": {
        "id": "jnONs2YA8eeX"
      },
      "execution_count": null,
      "outputs": []
    },
    {
      "cell_type": "code",
      "source": [],
      "metadata": {
        "id": "8wK7vKHc81WA"
      },
      "execution_count": null,
      "outputs": []
    },
    {
      "cell_type": "markdown",
      "source": [
        "# 8.반복문"
      ],
      "metadata": {
        "id": "mrECj7fHyUx5"
      }
    }
  ]
}